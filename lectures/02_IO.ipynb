{
 "cells": [
  {
   "cell_type": "markdown",
   "metadata": {},
   "source": [
    "I/O\n",
    "====\n",
    "\n",
    "The first step in data analysis is often getting data and parsing it into a convenient format for analysis. This notebook explores how to load and save plain text, JSON and XML data. We will cover numeric, tabular and database options in a subsequent lecture."
   ]
  },
  {
   "cell_type": "markdown",
   "metadata": {},
   "source": [
    "### Text files\n",
    "\n",
    "Quick and dirty way to write a text file."
   ]
  },
  {
   "cell_type": "code",
   "execution_count": 1,
   "metadata": {
    "collapsed": false
   },
   "outputs": [
    {
     "name": "stdout",
     "output_type": "stream",
     "text": [
      "Overwriting ../data/animals.txt\n"
     ]
    }
   ],
   "source": [
    "%%file ../data/animals.txt\n",
    "name|species|age|weight\n",
    "arun|cat|5|7.3\n",
    "bob|bird|2|1.5\n",
    "coco|cat|2|5.5\n",
    "dumbo|elephant|23|454\n",
    "elmo|dog|5|11\n",
    "fido|dog|3|24.5\n",
    "gumba|bird|2|2.7"
   ]
  },
  {
   "cell_type": "markdown",
   "metadata": {},
   "source": [
    "### Loading a text file"
   ]
  },
  {
   "cell_type": "markdown",
   "metadata": {},
   "source": [
    "#### Using a generator expression to read one line at a time\n",
    "\n",
    "This is useful if we only want to extrat some lines and the entire file is too large to fit into memory.\n",
    "\n",
    "Note the use of the `with` contxt manager - this automates the closing of the file resource once the `with` blcok is exited, avoiding leakage of system resources."
   ]
  },
  {
   "cell_type": "code",
   "execution_count": 2,
   "metadata": {
    "collapsed": false
   },
   "outputs": [
    {
     "name": "stdout",
     "output_type": "stream",
     "text": [
      "arun|cat|5|7.3\n",
      "coco|cat|2|5.5\n"
     ]
    }
   ],
   "source": [
    "with open('../data/animals.txt') as f:\n",
    "    for line in f:\n",
    "        if 'cat' in line:\n",
    "            print(line.strip())"
   ]
  },
  {
   "cell_type": "markdown",
   "metadata": {},
   "source": [
    "#### Reading into memory as a single string"
   ]
  },
  {
   "cell_type": "code",
   "execution_count": 3,
   "metadata": {
    "collapsed": false
   },
   "outputs": [
    {
     "name": "stdout",
     "output_type": "stream",
     "text": [
      "name|species|age|weight\n",
      "arun|cat|5|7.3\n",
      "bob|bird|2|1.5\n",
      "coco|cat|2|5.5\n",
      "dumbo|elephant|23|454\n",
      "elmo|dog|5|11\n",
      "fido|dog|3|24.5\n",
      "gumba|bird|2|2.7\n"
     ]
    }
   ],
   "source": [
    "with open('../data/animals.txt') as f:\n",
    "    text = f.read()\n",
    "print(text)"
   ]
  },
  {
   "cell_type": "markdown",
   "metadata": {},
   "source": [
    "#### Reading into memory as a list of strings"
   ]
  },
  {
   "cell_type": "code",
   "execution_count": 4,
   "metadata": {
    "collapsed": false
   },
   "outputs": [
    {
     "name": "stdout",
     "output_type": "stream",
     "text": [
      "['name|species|age|weight\\n', 'arun|cat|5|7.3\\n', 'bob|bird|2|1.5\\n', 'coco|cat|2|5.5\\n', 'dumbo|elephant|23|454\\n', 'elmo|dog|5|11\\n', 'fido|dog|3|24.5\\n', 'gumba|bird|2|2.7']\n"
     ]
    }
   ],
   "source": [
    "with open('../data/animals.txt') as f:\n",
    "    text = f.readlines()\n",
    "print(text)"
   ]
  },
  {
   "cell_type": "markdown",
   "metadata": {},
   "source": [
    "#### Tabular data can also be read with numpy or pandss"
   ]
  },
  {
   "cell_type": "code",
   "execution_count": 5,
   "metadata": {
    "collapsed": false
   },
   "outputs": [
    {
     "data": {
      "text/plain": [
       "array([[\"b'name'\", \"b'species'\", \"b'age'\", \"b'weight'\"],\n",
       "       [\"b'arun'\", \"b'cat'\", \"b'5'\", \"b'7.3'\"],\n",
       "       [\"b'bob'\", \"b'bird'\", \"b'2'\", \"b'1.5'\"],\n",
       "       [\"b'coco'\", \"b'cat'\", \"b'2'\", \"b'5.5'\"],\n",
       "       [\"b'dumbo'\", \"b'elephant'\", \"b'23'\", \"b'454'\"],\n",
       "       [\"b'elmo'\", \"b'dog'\", \"b'5'\", \"b'11'\"],\n",
       "       [\"b'fido'\", \"b'dog'\", \"b'3'\", \"b'24.5'\"],\n",
       "       [\"b'gumba'\", \"b'bird'\", \"b'2'\", \"b'2.7'\"]], dtype=object)"
      ]
     },
     "execution_count": 5,
     "metadata": {},
     "output_type": "execute_result"
    }
   ],
   "source": [
    "np.loadtxt('../data/animals.txt', dtype='object', delimiter='|')"
   ]
  },
  {
   "cell_type": "code",
   "execution_count": 6,
   "metadata": {
    "collapsed": false
   },
   "outputs": [
    {
     "data": {
      "text/html": [
       "<div>\n",
       "<table border=\"1\" class=\"dataframe\">\n",
       "  <thead>\n",
       "    <tr style=\"text-align: right;\">\n",
       "      <th></th>\n",
       "      <th>name</th>\n",
       "      <th>species</th>\n",
       "      <th>age</th>\n",
       "      <th>weight</th>\n",
       "    </tr>\n",
       "  </thead>\n",
       "  <tbody>\n",
       "    <tr>\n",
       "      <th>0</th>\n",
       "      <td>arun</td>\n",
       "      <td>cat</td>\n",
       "      <td>5</td>\n",
       "      <td>7.3</td>\n",
       "    </tr>\n",
       "    <tr>\n",
       "      <th>1</th>\n",
       "      <td>bob</td>\n",
       "      <td>bird</td>\n",
       "      <td>2</td>\n",
       "      <td>1.5</td>\n",
       "    </tr>\n",
       "    <tr>\n",
       "      <th>2</th>\n",
       "      <td>coco</td>\n",
       "      <td>cat</td>\n",
       "      <td>2</td>\n",
       "      <td>5.5</td>\n",
       "    </tr>\n",
       "    <tr>\n",
       "      <th>3</th>\n",
       "      <td>dumbo</td>\n",
       "      <td>elephant</td>\n",
       "      <td>23</td>\n",
       "      <td>454.0</td>\n",
       "    </tr>\n",
       "    <tr>\n",
       "      <th>4</th>\n",
       "      <td>elmo</td>\n",
       "      <td>dog</td>\n",
       "      <td>5</td>\n",
       "      <td>11.0</td>\n",
       "    </tr>\n",
       "    <tr>\n",
       "      <th>5</th>\n",
       "      <td>fido</td>\n",
       "      <td>dog</td>\n",
       "      <td>3</td>\n",
       "      <td>24.5</td>\n",
       "    </tr>\n",
       "    <tr>\n",
       "      <th>6</th>\n",
       "      <td>gumba</td>\n",
       "      <td>bird</td>\n",
       "      <td>2</td>\n",
       "      <td>2.7</td>\n",
       "    </tr>\n",
       "  </tbody>\n",
       "</table>\n",
       "</div>"
      ],
      "text/plain": [
       "    name   species  age  weight\n",
       "0   arun       cat    5     7.3\n",
       "1    bob      bird    2     1.5\n",
       "2   coco       cat    2     5.5\n",
       "3  dumbo  elephant   23   454.0\n",
       "4   elmo       dog    5    11.0\n",
       "5   fido       dog    3    24.5\n",
       "6  gumba      bird    2     2.7"
      ]
     },
     "execution_count": 6,
     "metadata": {},
     "output_type": "execute_result"
    }
   ],
   "source": [
    "df = pd.read_table('../data/animals.txt', sep='|')\n",
    "df"
   ]
  },
  {
   "cell_type": "markdown",
   "metadata": {},
   "source": [
    "#### Note that pandas has intelligently guessed the appropriate type of each column"
   ]
  },
  {
   "cell_type": "code",
   "execution_count": 7,
   "metadata": {
    "collapsed": false
   },
   "outputs": [
    {
     "data": {
      "text/plain": [
       "name        object\n",
       "species     object\n",
       "age          int64\n",
       "weight     float64\n",
       "dtype: object"
      ]
     },
     "execution_count": 7,
     "metadata": {},
     "output_type": "execute_result"
    }
   ],
   "source": [
    "df.dtypes"
   ]
  },
  {
   "cell_type": "markdown",
   "metadata": {},
   "source": [
    "### Saving a text file"
   ]
  },
  {
   "cell_type": "code",
   "execution_count": 8,
   "metadata": {
    "collapsed": true
   },
   "outputs": [],
   "source": [
    "s = \"\"\"\n",
    "name|species|age|weight\n",
    "arun|cat|5|7.3\n",
    "bob|bird|2|1.5\n",
    "coco|cat|2|5.5\n",
    "dumbo|elephant|23|454\n",
    "elmo|dog|5|11\n",
    "fido|dog|3|24.5\n",
    "gumba|bird|2|2.7\n",
    "\"\"\""
   ]
  },
  {
   "cell_type": "code",
   "execution_count": 9,
   "metadata": {
    "collapsed": true
   },
   "outputs": [],
   "source": [
    "with open('../data/animals2.txt', 'w') as f:\n",
    "    f.write(s)"
   ]
  },
  {
   "cell_type": "code",
   "execution_count": 10,
   "metadata": {
    "collapsed": false
   },
   "outputs": [
    {
     "name": "stdout",
     "output_type": "stream",
     "text": [
      "\r\n",
      "name|species|age|weight\r\n",
      "arun|cat|5|7.3\r\n",
      "bob|bird|2|1.5\r\n",
      "coco|cat|2|5.5\r\n",
      "dumbo|elephant|23|454\r\n",
      "elmo|dog|5|11\r\n",
      "fido|dog|3|24.5\r\n",
      "gumba|bird|2|2.7\r\n"
     ]
    }
   ],
   "source": [
    "!cat '../data/animals2.txt'"
   ]
  },
  {
   "cell_type": "markdown",
   "metadata": {},
   "source": [
    "### Web resources"
   ]
  },
  {
   "cell_type": "markdown",
   "metadata": {},
   "source": [
    "### Reading an unformatted web page"
   ]
  },
  {
   "cell_type": "code",
   "execution_count": 11,
   "metadata": {
    "collapsed": true
   },
   "outputs": [],
   "source": [
    "import requests"
   ]
  },
  {
   "cell_type": "code",
   "execution_count": 12,
   "metadata": {
    "collapsed": true
   },
   "outputs": [],
   "source": [
    "# Only download once - Project Gutenburg will block you if you do this repeatedly\n",
    "\n",
    "try:\n",
    "    with open('../data/Ulysses.txt') as f:\n",
    "        text = f.read()\n",
    "except IOError:\n",
    "    url = 'http://www.gutenberg.org/cache/epub/4300/pg4300.txt'\n",
    "    resp = requests.get(url)\n",
    "    text = resp.text\n",
    "    with open('../data/Ulysses.txt', 'w') as f:\n",
    "        f.write(text)"
   ]
  },
  {
   "cell_type": "code",
   "execution_count": 13,
   "metadata": {
    "collapsed": false
   },
   "outputs": [
    {
     "name": "stdout",
     "output_type": "stream",
     "text": [
      "﻿The Project Gutenberg EBook of Ulysses, by James Joyce\n",
      "\n",
      "This eBook is for the use of anyone anywhere at no cost and with\n",
      "almost no restrictions whatsoever.  You may copy it, give it away or\n",
      "re-use it under the terms of the Project Gutenberg License included\n",
      "with this eBook or online at www.gutenberg.org\n",
      "\n",
      "\n",
      "Title: Ulysses\n",
      "\n",
      "Author: James Joyce\n",
      "\n",
      "Posting Date: August 1, 2008 [EBook #4300]\n",
      "Release Date: July, 2003\n",
      "[Last updated: November 17, 2011]\n",
      "\n",
      "Language: English\n",
      "\n",
      "\n",
      "*** START OF THIS PROJECT GUTENBERG EBOOK ULYSSES ***\n",
      "\n",
      "\n",
      "\n",
      "\n",
      "Produced by Col Choat\n",
      "\n",
      "\n",
      "\n",
      "\n",
      "\n",
      "ULYSSES\n",
      "\n",
      "by James Joyce\n",
      "\n",
      "\n",
      "\n",
      "\n",
      "-- I --\n",
      "\n",
      "Stately, plump Buck Mulligan came from the stairhead, bearing a bowl of\n",
      "lather on which a mirror and a razor lay crossed. A yellow dressinggown,\n",
      "ungirdled, was sustained gently behind him on the mild morning air. He\n",
      "held the bowl aloft and intoned:\n",
      "\n",
      "--_Introibo ad altare Dei_.\n",
      "\n",
      "Halted, he peered down the dark winding stairs and called out coarsely:\n",
      "\n",
      "--Come up, Kinch! Come up, you fearful jesuit!\n",
      "\n",
      "Solemnly h\n"
     ]
    }
   ],
   "source": [
    "print(text[:1000])"
   ]
  },
  {
   "cell_type": "markdown",
   "metadata": {},
   "source": [
    "### Getting a table from a URL\n",
    "\n",
    "It might be necesary to install some packages before this works."
   ]
  },
  {
   "cell_type": "code",
   "execution_count": 14,
   "metadata": {
    "collapsed": false
   },
   "outputs": [
    {
     "data": {
      "text/html": [
       "<div>\n",
       "<table border=\"1\" class=\"dataframe\">\n",
       "  <thead>\n",
       "    <tr style=\"text-align: right;\">\n",
       "      <th></th>\n",
       "      <th>Fiscal year is October-September. All values USD millions.</th>\n",
       "      <th>2011</th>\n",
       "      <th>2012</th>\n",
       "      <th>2013</th>\n",
       "      <th>2014</th>\n",
       "      <th>2015</th>\n",
       "      <th>5-year trend</th>\n",
       "    </tr>\n",
       "  </thead>\n",
       "  <tbody>\n",
       "    <tr>\n",
       "      <th>0</th>\n",
       "      <td>Sales/Revenue</td>\n",
       "      <td>108.6B</td>\n",
       "      <td>155.97B</td>\n",
       "      <td>170.87B</td>\n",
       "      <td>183.24B</td>\n",
       "      <td>231.28B</td>\n",
       "      <td>NaN</td>\n",
       "    </tr>\n",
       "    <tr>\n",
       "      <th>1</th>\n",
       "      <td>Sales Growth</td>\n",
       "      <td>-</td>\n",
       "      <td>43.62%</td>\n",
       "      <td>9.55%</td>\n",
       "      <td>7.24%</td>\n",
       "      <td>26.22%</td>\n",
       "      <td>NaN</td>\n",
       "    </tr>\n",
       "    <tr>\n",
       "      <th>2</th>\n",
       "      <td>Cost of Goods Sold (COGS) incl. D&amp;A</td>\n",
       "      <td>64.08B</td>\n",
       "      <td>87.92B</td>\n",
       "      <td>107.24B</td>\n",
       "      <td>112.55B</td>\n",
       "      <td>142.26B</td>\n",
       "      <td>NaN</td>\n",
       "    </tr>\n",
       "    <tr>\n",
       "      <th>3</th>\n",
       "      <td>COGS excluding D&amp;A</td>\n",
       "      <td>62.26B</td>\n",
       "      <td>84.64B</td>\n",
       "      <td>100.48B</td>\n",
       "      <td>104.61B</td>\n",
       "      <td>131B</td>\n",
       "      <td>NaN</td>\n",
       "    </tr>\n",
       "    <tr>\n",
       "      <th>4</th>\n",
       "      <td>Depreciation &amp; Amortization Expense</td>\n",
       "      <td>1.81B</td>\n",
       "      <td>3.28B</td>\n",
       "      <td>6.76B</td>\n",
       "      <td>7.95B</td>\n",
       "      <td>11.26B</td>\n",
       "      <td>NaN</td>\n",
       "    </tr>\n",
       "    <tr>\n",
       "      <th>5</th>\n",
       "      <td>Depreciation</td>\n",
       "      <td>1.62B</td>\n",
       "      <td>2.6B</td>\n",
       "      <td>5.8B</td>\n",
       "      <td>6.85B</td>\n",
       "      <td>9.96B</td>\n",
       "      <td>NaN</td>\n",
       "    </tr>\n",
       "    <tr>\n",
       "      <th>6</th>\n",
       "      <td>Amortization of Intangibles</td>\n",
       "      <td>192M</td>\n",
       "      <td>677M</td>\n",
       "      <td>960M</td>\n",
       "      <td>1.1B</td>\n",
       "      <td>1.3B</td>\n",
       "      <td>NaN</td>\n",
       "    </tr>\n",
       "    <tr>\n",
       "      <th>7</th>\n",
       "      <td>COGS Growth</td>\n",
       "      <td>-</td>\n",
       "      <td>37.21%</td>\n",
       "      <td>21.98%</td>\n",
       "      <td>4.96%</td>\n",
       "      <td>26.39%</td>\n",
       "      <td>NaN</td>\n",
       "    </tr>\n",
       "    <tr>\n",
       "      <th>8</th>\n",
       "      <td>Gross Income</td>\n",
       "      <td>44.52B</td>\n",
       "      <td>68.06B</td>\n",
       "      <td>63.63B</td>\n",
       "      <td>70.69B</td>\n",
       "      <td>89.03B</td>\n",
       "      <td>NaN</td>\n",
       "    </tr>\n",
       "    <tr>\n",
       "      <th>9</th>\n",
       "      <td>Gross Income Growth</td>\n",
       "      <td>-</td>\n",
       "      <td>52.86%</td>\n",
       "      <td>-6.51%</td>\n",
       "      <td>11.10%</td>\n",
       "      <td>25.94%</td>\n",
       "      <td>NaN</td>\n",
       "    </tr>\n",
       "    <tr>\n",
       "      <th>10</th>\n",
       "      <td>Gross Profit Margin</td>\n",
       "      <td>-</td>\n",
       "      <td>-</td>\n",
       "      <td>-</td>\n",
       "      <td>-</td>\n",
       "      <td>38.49%</td>\n",
       "      <td>NaN</td>\n",
       "    </tr>\n",
       "  </tbody>\n",
       "</table>\n",
       "</div>"
      ],
      "text/plain": [
       "   Fiscal year is October-September. All values USD millions.    2011  \\\n",
       "0                                       Sales/Revenue          108.6B   \n",
       "1                                        Sales Growth               -   \n",
       "2                 Cost of Goods Sold (COGS) incl. D&A          64.08B   \n",
       "3                                  COGS excluding D&A          62.26B   \n",
       "4                 Depreciation & Amortization Expense           1.81B   \n",
       "5                                        Depreciation           1.62B   \n",
       "6                         Amortization of Intangibles            192M   \n",
       "7                                         COGS Growth               -   \n",
       "8                                        Gross Income          44.52B   \n",
       "9                                 Gross Income Growth               -   \n",
       "10                                Gross Profit Margin               -   \n",
       "\n",
       "       2012     2013     2014     2015  5-year trend  \n",
       "0   155.97B  170.87B  183.24B  231.28B           NaN  \n",
       "1    43.62%    9.55%    7.24%   26.22%           NaN  \n",
       "2    87.92B  107.24B  112.55B  142.26B           NaN  \n",
       "3    84.64B  100.48B  104.61B     131B           NaN  \n",
       "4     3.28B    6.76B    7.95B   11.26B           NaN  \n",
       "5      2.6B     5.8B    6.85B    9.96B           NaN  \n",
       "6      677M     960M     1.1B     1.3B           NaN  \n",
       "7    37.21%   21.98%    4.96%   26.39%           NaN  \n",
       "8    68.06B   63.63B   70.69B   89.03B           NaN  \n",
       "9    52.86%   -6.51%   11.10%   25.94%           NaN  \n",
       "10        -        -        -   38.49%           NaN  "
      ]
     },
     "execution_count": 14,
     "metadata": {},
     "output_type": "execute_result"
    }
   ],
   "source": [
    "url = 'http://www.marketwatch.com/investing/stock/aapl/financials'\n",
    "pd.read_html(url, match=\"Fiscal year is October-September. All values USD millions\")[0]"
   ]
  },
  {
   "cell_type": "markdown",
   "metadata": {
    "collapsed": true
   },
   "source": [
    "Exercise\n",
    "----\n",
    "\n",
    "Write function to downlaod text data (files with .asc extension) form Gelman's website for the Bayesian Data Analysis 3 textbook at http://www.stat.columbia.edu/~gelman/book/data. Given the URL to an .asc file, the funciton should return a string containing the data description, and a `pandas` dataframe containing the table. For example, the resultn of parsing the URL http://www.stat.columbia.edu/~gelman/book/data/meta.asc should look like this."
   ]
  },
  {
   "cell_type": "code",
   "execution_count": 15,
   "metadata": {
    "collapsed": true
   },
   "outputs": [],
   "source": [
    "from IPython.display import Image"
   ]
  },
  {
   "cell_type": "code",
   "execution_count": 16,
   "metadata": {
    "collapsed": false
   },
   "outputs": [
    {
     "data": {
      "image/png": "[encoded data removed]",
      "text/plain": [
       "<IPython.core.display.Image object>"
      ]
     },
     "execution_count": 16,
     "metadata": {},
     "output_type": "execute_result"
    }
   ],
   "source": [
    "Image('../images/Scraping data.png')"
   ]
  },
  {
   "cell_type": "code",
   "execution_count": null,
   "metadata": {
    "collapsed": true
   },
   "outputs": [],
   "source": [
    "\n",
    "\n",
    "\n"
   ]
  },
  {
   "cell_type": "markdown",
   "metadata": {},
   "source": [
    "Loading JSON data\n",
    "----\n",
    "\n",
    "JavaScript Object Notation (JSON) is a common way of storing data on the web.Python translates JSON into a list of nested dictinaries using the `json` module in the standard library. We will use biccyle crash data from the [Durham Open Data project](https://opendurham.nc.gov/page/home/) as an example."
   ]
  },
  {
   "cell_type": "code",
   "execution_count": 17,
   "metadata": {
    "collapsed": true
   },
   "outputs": [],
   "source": [
    "import json"
   ]
  },
  {
   "cell_type": "code",
   "execution_count": 18,
   "metadata": {
    "collapsed": false
   },
   "outputs": [],
   "source": [
    "with open('../data/north_carolina_bicycle_crash_data_heatmap_.json') as f:\n",
    "    data = json.load(f)"
   ]
  },
  {
   "cell_type": "code",
   "execution_count": 19,
   "metadata": {
    "collapsed": false
   },
   "outputs": [
    {
     "name": "stdout",
     "output_type": "stream",
     "text": [
      "[{\"datasetid\": \"north_carolina_bicycle_crash_data_heatmap_\", \"recordid\": \"696348a220ddd21dfcbd30cdc744147464ffd639\", \"fields\": {\"drvr_age\": 66, \"rd_defects\": \"None\", \"crsh_sevri\": \"C: Possible Injury\", \"objectid\": 19, \"crash_ty_1\": 353311, \"ambulancer\": \"No\", \"excsspdind\": \"No\", \"county\": \"Durham\", \"speed_limi\": \"20 - 25  MPH\", \"rural_urba\": \"Urban\", \"bike_injur\": \"C: Possible Injury\", \"bike_race\": \"Black\", \"drvr_vehty\": \"Pickup\", \"crash_type\": \"Bicyclist Ride Out - Residential Driveway\", \"bike_dir\": \"Not Applicable\", \"city\": \"Durham\", \"workzone_i\": \"No\", \"rd_class\": \"Local Street\", \"rd_config\": \"Two-Way, Not Divided\", \"num_lanes\": \"2 lanes\", \"rd_feature\": \"No Special Feature\", \"bike_age\": 6, \"location\": [36.002743, -78.8785], \"drvr_injur\": \"O: No Injury\", \"crash_loc\": \"Non-Intersection\", \"rd_charact\": \"Straight - Level\", \"drvr_alc_d\": \"No\", \"drvrage_gr\": \"60-69\", \"i_fid\": 18, \"light_cond\": \"Daylight\", \"drvr_sex\": \"Male\", \"crashday\": \"01-01-06\", \"crash_time\": \"0001-01-01T08:21:58-04:56"
     ]
    }
   ],
   "source": [
    "! head -c 1000 ../data/north_carolina_bicycle_crash_data_heatmap_.json"
   ]
  },
  {
   "cell_type": "code",
   "execution_count": 20,
   "metadata": {
    "collapsed": false
   },
   "outputs": [
    {
     "data": {
      "text/plain": [
       "5716"
      ]
     },
     "execution_count": 20,
     "metadata": {},
     "output_type": "execute_result"
    }
   ],
   "source": [
    "len(data)"
   ]
  },
  {
   "cell_type": "code",
   "execution_count": 21,
   "metadata": {
    "collapsed": false
   },
   "outputs": [
    {
     "data": {
      "text/plain": [
       "{'datasetid': 'north_carolina_bicycle_crash_data_heatmap_',\n",
       " 'fields': {'ambulancer': 'No',\n",
       "  'bike_age': 6,\n",
       "  'bike_alc_d': 'No',\n",
       "  'bike_dir': 'Not Applicable',\n",
       "  'bike_injur': 'C: Possible Injury',\n",
       "  'bike_pos': 'Driveway / Alley',\n",
       "  'bike_race': 'Black',\n",
       "  'bike_sex': 'Female',\n",
       "  'city': 'Durham',\n",
       "  'county': 'Durham',\n",
       "  'crash_date': '2007-01-06',\n",
       "  'crash_grp': 'Bicyclist Failed to Yield - Midblock',\n",
       "  'crash_hour': 13,\n",
       "  'crash_loc': 'Non-Intersection',\n",
       "  'crash_time': '0001-01-01T08:21:58-04:56',\n",
       "  'crash_ty_1': 353311,\n",
       "  'crash_type': 'Bicyclist Ride Out - Residential Driveway',\n",
       "  'crash_year': '2007',\n",
       "  'crashalcoh': 'No',\n",
       "  'crashday': '01-01-06',\n",
       "  'crsh_sevri': 'C: Possible Injury',\n",
       "  'developmen': 'Residential',\n",
       "  'drvr_age': 66,\n",
       "  'drvr_alc_d': 'No',\n",
       "  'drvr_estsp': '11-15 mph',\n",
       "  'drvr_injur': 'O: No Injury',\n",
       "  'drvr_race': 'Black',\n",
       "  'drvr_sex': 'Male',\n",
       "  'drvr_vehty': 'Pickup',\n",
       "  'drvrage_gr': '60-69',\n",
       "  'excsspdind': 'No',\n",
       "  'hit_run': 'No',\n",
       "  'i_fid': 18,\n",
       "  'light_cond': 'Daylight',\n",
       "  'locality': 'Mixed (30% To 70% Developed)',\n",
       "  'location': [36.002743, -78.8785],\n",
       "  'num_lanes': '2 lanes',\n",
       "  'num_units': 2,\n",
       "  'objectid': 19,\n",
       "  'rd_charact': 'Straight - Level',\n",
       "  'rd_class': 'Local Street',\n",
       "  'rd_conditi': 'Dry',\n",
       "  'rd_config': 'Two-Way, Not Divided',\n",
       "  'rd_defects': 'None',\n",
       "  'rd_feature': 'No Special Feature',\n",
       "  'rd_surface': 'Smooth Asphalt',\n",
       "  'region': 'Piedmont',\n",
       "  'rural_urba': 'Urban',\n",
       "  'speed_limi': '20 - 25  MPH',\n",
       "  'traff_cntr': 'No Control Present',\n",
       "  'weather': 'Clear',\n",
       "  'workzone_i': 'No'},\n",
       " 'geometry': {'coordinates': [-78.8785, 36.002743], 'type': 'Point'},\n",
       " 'record_timestamp': '2015-04-21T05:55:44-04:00',\n",
       " 'recordid': '696348a220ddd21dfcbd30cdc744147464ffd639'}"
      ]
     },
     "execution_count": 21,
     "metadata": {},
     "output_type": "execute_result"
    }
   ],
   "source": [
    "data[0]"
   ]
  },
  {
   "cell_type": "markdown",
   "metadata": {},
   "source": [
    "### Flatten the nested dictionaries recursively"
   ]
  },
  {
   "cell_type": "code",
   "execution_count": 35,
   "metadata": {
    "collapsed": false
   },
   "outputs": [],
   "source": [
    "def flatten(d, parent='', sep='_'):\n",
    "    \"\"\"This takes a nested dictionary, and returns a flat dictinoary.\n",
    "    \n",
    "    A new prefix can optionally be added to the keys by specifying parent.\n",
    "    Keys in the flat dictionary are created by joining parent and child keys with sep.\n",
    "    \"\"\"\n",
    "    items = []\n",
    "    for k, v in d.items():\n",
    "        key = sep.join([parent, k]) if parent else k\n",
    "        try:\n",
    "            items.extend(flatten(v, key, sep=sep).items())\n",
    "        except AttributeError:\n",
    "            items.append((key, v))\n",
    "    return dict(items)"
   ]
  },
  {
   "cell_type": "code",
   "execution_count": 23,
   "metadata": {
    "collapsed": false
   },
   "outputs": [
    {
     "data": {
      "text/plain": [
       "{'datasetid': 'north_carolina_bicycle_crash_data_heatmap_',\n",
       " 'fields_ambulancer': 'No',\n",
       " 'fields_bike_age': 6,\n",
       " 'fields_bike_alc_d': 'No',\n",
       " 'fields_bike_dir': 'Not Applicable',\n",
       " 'fields_bike_injur': 'C: Possible Injury',\n",
       " 'fields_bike_pos': 'Driveway / Alley',\n",
       " 'fields_bike_race': 'Black',\n",
       " 'fields_bike_sex': 'Female',\n",
       " 'fields_city': 'Durham',\n",
       " 'fields_county': 'Durham',\n",
       " 'fields_crash_date': '2007-01-06',\n",
       " 'fields_crash_grp': 'Bicyclist Failed to Yield - Midblock',\n",
       " 'fields_crash_hour': 13,\n",
       " 'fields_crash_loc': 'Non-Intersection',\n",
       " 'fields_crash_time': '0001-01-01T08:21:58-04:56',\n",
       " 'fields_crash_ty_1': 353311,\n",
       " 'fields_crash_type': 'Bicyclist Ride Out - Residential Driveway',\n",
       " 'fields_crash_year': '2007',\n",
       " 'fields_crashalcoh': 'No',\n",
       " 'fields_crashday': '01-01-06',\n",
       " 'fields_crsh_sevri': 'C: Possible Injury',\n",
       " 'fields_developmen': 'Residential',\n",
       " 'fields_drvr_age': 66,\n",
       " 'fields_drvr_alc_d': 'No',\n",
       " 'fields_drvr_estsp': '11-15 mph',\n",
       " 'fields_drvr_injur': 'O: No Injury',\n",
       " 'fields_drvr_race': 'Black',\n",
       " 'fields_drvr_sex': 'Male',\n",
       " 'fields_drvr_vehty': 'Pickup',\n",
       " 'fields_drvrage_gr': '60-69',\n",
       " 'fields_excsspdind': 'No',\n",
       " 'fields_hit_run': 'No',\n",
       " 'fields_i_fid': 18,\n",
       " 'fields_light_cond': 'Daylight',\n",
       " 'fields_locality': 'Mixed (30% To 70% Developed)',\n",
       " 'fields_location': [36.002743, -78.8785],\n",
       " 'fields_num_lanes': '2 lanes',\n",
       " 'fields_num_units': 2,\n",
       " 'fields_objectid': 19,\n",
       " 'fields_rd_charact': 'Straight - Level',\n",
       " 'fields_rd_class': 'Local Street',\n",
       " 'fields_rd_conditi': 'Dry',\n",
       " 'fields_rd_config': 'Two-Way, Not Divided',\n",
       " 'fields_rd_defects': 'None',\n",
       " 'fields_rd_feature': 'No Special Feature',\n",
       " 'fields_rd_surface': 'Smooth Asphalt',\n",
       " 'fields_region': 'Piedmont',\n",
       " 'fields_rural_urba': 'Urban',\n",
       " 'fields_speed_limi': '20 - 25  MPH',\n",
       " 'fields_traff_cntr': 'No Control Present',\n",
       " 'fields_weather': 'Clear',\n",
       " 'fields_workzone_i': 'No',\n",
       " 'geometry_coordinates': [-78.8785, 36.002743],\n",
       " 'geometry_type': 'Point',\n",
       " 'record_timestamp': '2015-04-21T05:55:44-04:00',\n",
       " 'recordid': '696348a220ddd21dfcbd30cdc744147464ffd639'}"
      ]
     },
     "execution_count": 23,
     "metadata": {},
     "output_type": "execute_result"
    }
   ],
   "source": [
    "flatten(data[0])"
   ]
  },
  {
   "cell_type": "markdown",
   "metadata": {},
   "source": [
    "#### Now we can easily put into a DataFrfame for analysis."
   ]
  },
  {
   "cell_type": "code",
   "execution_count": 25,
   "metadata": {
    "collapsed": false
   },
   "outputs": [
    {
     "data": {
      "text/html": [
       "<div>\n",
       "<table border=\"1\" class=\"dataframe\">\n",
       "  <thead>\n",
       "    <tr style=\"text-align: right;\">\n",
       "      <th></th>\n",
       "      <th>datasetid</th>\n",
       "      <th>fields_ambulancer</th>\n",
       "      <th>fields_bike_age</th>\n",
       "      <th>fields_bike_alc_d</th>\n",
       "      <th>fields_bike_dir</th>\n",
       "      <th>fields_bike_injur</th>\n",
       "      <th>fields_bike_pos</th>\n",
       "      <th>fields_bike_race</th>\n",
       "      <th>fields_bike_sex</th>\n",
       "      <th>fields_bikeage_gr</th>\n",
       "      <th>...</th>\n",
       "      <th>fields_region</th>\n",
       "      <th>fields_rural_urba</th>\n",
       "      <th>fields_speed_limi</th>\n",
       "      <th>fields_traff_cntr</th>\n",
       "      <th>fields_weather</th>\n",
       "      <th>fields_workzone_i</th>\n",
       "      <th>geometry_coordinates</th>\n",
       "      <th>geometry_type</th>\n",
       "      <th>record_timestamp</th>\n",
       "      <th>recordid</th>\n",
       "    </tr>\n",
       "  </thead>\n",
       "  <tbody>\n",
       "    <tr>\n",
       "      <th>0</th>\n",
       "      <td>north_carolina_bicycle_crash_data_heatmap_</td>\n",
       "      <td>No</td>\n",
       "      <td>6</td>\n",
       "      <td>No</td>\n",
       "      <td>Not Applicable</td>\n",
       "      <td>C: Possible Injury</td>\n",
       "      <td>Driveway / Alley</td>\n",
       "      <td>Black</td>\n",
       "      <td>Female</td>\n",
       "      <td>NaN</td>\n",
       "      <td>...</td>\n",
       "      <td>Piedmont</td>\n",
       "      <td>Urban</td>\n",
       "      <td>20 - 25  MPH</td>\n",
       "      <td>No Control Present</td>\n",
       "      <td>Clear</td>\n",
       "      <td>No</td>\n",
       "      <td>[-78.8785, 36.002743]</td>\n",
       "      <td>Point</td>\n",
       "      <td>2015-04-21T05:55:44-04:00</td>\n",
       "      <td>696348a220ddd21dfcbd30cdc744147464ffd639</td>\n",
       "    </tr>\n",
       "    <tr>\n",
       "      <th>1</th>\n",
       "      <td>north_carolina_bicycle_crash_data_heatmap_</td>\n",
       "      <td>Yes</td>\n",
       "      <td>51</td>\n",
       "      <td>No</td>\n",
       "      <td>With Traffic</td>\n",
       "      <td>C: Possible Injury</td>\n",
       "      <td>Travel Lane</td>\n",
       "      <td>Black</td>\n",
       "      <td>Male</td>\n",
       "      <td>50-59</td>\n",
       "      <td>...</td>\n",
       "      <td>Coastal</td>\n",
       "      <td>Urban</td>\n",
       "      <td>40 - 45  MPH</td>\n",
       "      <td>Stop And Go Signal</td>\n",
       "      <td>Clear</td>\n",
       "      <td>No</td>\n",
       "      <td>[-77.39265, 35.612984]</td>\n",
       "      <td>Point</td>\n",
       "      <td>2015-04-21T05:55:44-04:00</td>\n",
       "      <td>9e89f7103e3a849d289b1015e80c3d3f7a74d058</td>\n",
       "    </tr>\n",
       "    <tr>\n",
       "      <th>2</th>\n",
       "      <td>north_carolina_bicycle_crash_data_heatmap_</td>\n",
       "      <td>No</td>\n",
       "      <td>10</td>\n",
       "      <td>No</td>\n",
       "      <td>With Traffic</td>\n",
       "      <td>Injury</td>\n",
       "      <td>Travel Lane</td>\n",
       "      <td>Black</td>\n",
       "      <td>Male</td>\n",
       "      <td>NaN</td>\n",
       "      <td>...</td>\n",
       "      <td>Coastal</td>\n",
       "      <td>Rural</td>\n",
       "      <td>30 - 35  MPH</td>\n",
       "      <td>Stop Sign</td>\n",
       "      <td>Clear</td>\n",
       "      <td>No</td>\n",
       "      <td>[-77.59074, 35.595676]</td>\n",
       "      <td>Point</td>\n",
       "      <td>2015-04-21T05:55:44-04:00</td>\n",
       "      <td>ed2998fdddd54956266ac4588b5e3e734ba6a419</td>\n",
       "    </tr>\n",
       "    <tr>\n",
       "      <th>3</th>\n",
       "      <td>north_carolina_bicycle_crash_data_heatmap_</td>\n",
       "      <td>Yes</td>\n",
       "      <td>17</td>\n",
       "      <td>No</td>\n",
       "      <td>NaN</td>\n",
       "      <td>B: Evident Injury</td>\n",
       "      <td>Travel Lane</td>\n",
       "      <td>White</td>\n",
       "      <td>Male</td>\n",
       "      <td>16-19</td>\n",
       "      <td>...</td>\n",
       "      <td>Piedmont</td>\n",
       "      <td>Urban</td>\n",
       "      <td>40 - 45  MPH</td>\n",
       "      <td>Stop And Go Signal</td>\n",
       "      <td>Cloudy</td>\n",
       "      <td>No</td>\n",
       "      <td>[-80.7728, 35.076767]</td>\n",
       "      <td>Point</td>\n",
       "      <td>2015-04-21T05:55:44-04:00</td>\n",
       "      <td>77d8284533f319b61986fd4449ad5ea60b4f663a</td>\n",
       "    </tr>\n",
       "    <tr>\n",
       "      <th>4</th>\n",
       "      <td>north_carolina_bicycle_crash_data_heatmap_</td>\n",
       "      <td>No</td>\n",
       "      <td>6</td>\n",
       "      <td>No</td>\n",
       "      <td>Facing Traffic</td>\n",
       "      <td>O: No Injury</td>\n",
       "      <td>Travel Lane</td>\n",
       "      <td>Black</td>\n",
       "      <td>Male</td>\n",
       "      <td>NaN</td>\n",
       "      <td>...</td>\n",
       "      <td>Piedmont</td>\n",
       "      <td>Urban</td>\n",
       "      <td>20 - 25  MPH</td>\n",
       "      <td>Stop Sign</td>\n",
       "      <td>Clear</td>\n",
       "      <td>No</td>\n",
       "      <td>[-80.75713, 35.19999]</td>\n",
       "      <td>Point</td>\n",
       "      <td>2015-04-21T05:55:44-04:00</td>\n",
       "      <td>5accb69983a9ee89d7a184b1e4601b6baac7241a</td>\n",
       "    </tr>\n",
       "  </tbody>\n",
       "</table>\n",
       "<p>5 rows × 59 columns</p>\n",
       "</div>"
      ],
      "text/plain": [
       "                                    datasetid fields_ambulancer  \\\n",
       "0  north_carolina_bicycle_crash_data_heatmap_                No   \n",
       "1  north_carolina_bicycle_crash_data_heatmap_               Yes   \n",
       "2  north_carolina_bicycle_crash_data_heatmap_                No   \n",
       "3  north_carolina_bicycle_crash_data_heatmap_               Yes   \n",
       "4  north_carolina_bicycle_crash_data_heatmap_                No   \n",
       "\n",
       "   fields_bike_age fields_bike_alc_d fields_bike_dir   fields_bike_injur  \\\n",
       "0                6                No  Not Applicable  C: Possible Injury   \n",
       "1               51                No    With Traffic  C: Possible Injury   \n",
       "2               10                No    With Traffic              Injury   \n",
       "3               17                No             NaN   B: Evident Injury   \n",
       "4                6                No  Facing Traffic        O: No Injury   \n",
       "\n",
       "    fields_bike_pos fields_bike_race fields_bike_sex fields_bikeage_gr  \\\n",
       "0  Driveway / Alley            Black          Female               NaN   \n",
       "1       Travel Lane            Black            Male             50-59   \n",
       "2       Travel Lane            Black            Male               NaN   \n",
       "3       Travel Lane            White            Male             16-19   \n",
       "4       Travel Lane            Black            Male               NaN   \n",
       "\n",
       "                     ...                    fields_region fields_rural_urba  \\\n",
       "0                    ...                         Piedmont             Urban   \n",
       "1                    ...                          Coastal             Urban   \n",
       "2                    ...                          Coastal             Rural   \n",
       "3                    ...                         Piedmont             Urban   \n",
       "4                    ...                         Piedmont             Urban   \n",
       "\n",
       "  fields_speed_limi   fields_traff_cntr  fields_weather fields_workzone_i  \\\n",
       "0      20 - 25  MPH  No Control Present           Clear                No   \n",
       "1      40 - 45  MPH  Stop And Go Signal           Clear                No   \n",
       "2      30 - 35  MPH           Stop Sign           Clear                No   \n",
       "3      40 - 45  MPH  Stop And Go Signal          Cloudy                No   \n",
       "4      20 - 25  MPH           Stop Sign           Clear                No   \n",
       "\n",
       "     geometry_coordinates geometry_type           record_timestamp  \\\n",
       "0   [-78.8785, 36.002743]         Point  2015-04-21T05:55:44-04:00   \n",
       "1  [-77.39265, 35.612984]         Point  2015-04-21T05:55:44-04:00   \n",
       "2  [-77.59074, 35.595676]         Point  2015-04-21T05:55:44-04:00   \n",
       "3   [-80.7728, 35.076767]         Point  2015-04-21T05:55:44-04:00   \n",
       "4   [-80.75713, 35.19999]         Point  2015-04-21T05:55:44-04:00   \n",
       "\n",
       "                                   recordid  \n",
       "0  696348a220ddd21dfcbd30cdc744147464ffd639  \n",
       "1  9e89f7103e3a849d289b1015e80c3d3f7a74d058  \n",
       "2  ed2998fdddd54956266ac4588b5e3e734ba6a419  \n",
       "3  77d8284533f319b61986fd4449ad5ea60b4f663a  \n",
       "4  5accb69983a9ee89d7a184b1e4601b6baac7241a  \n",
       "\n",
       "[5 rows x 59 columns]"
      ]
     },
     "execution_count": 25,
     "metadata": {},
     "output_type": "execute_result"
    }
   ],
   "source": [
    "df = DataFrame(flatten(d) for d in data)\n",
    "df.head()"
   ]
  },
  {
   "cell_type": "markdown",
   "metadata": {},
   "source": [
    "XML\n",
    "----\n",
    "\n",
    "Antoher nested format that you may come across is XML. One way to preapare data in XML files for anlysis is to convert them to nested dictionariesN using the `xmltodict` library. We will try to extract the courses offered by Reed College from their course decrippiton XML file. [Source](http://www.cs.washington.edu/research/xmldatasets/data/courses/reed.xml)"
   ]
  },
  {
   "cell_type": "code",
   "execution_count": 26,
   "metadata": {
    "collapsed": false
   },
   "outputs": [
    {
     "name": "stdout",
     "output_type": "stream",
     "text": [
      "Collecting xmltodict\n",
      "  Using cached xmltodict-0.9.2.tar.gz\n",
      "Building wheels for collected packages: xmltodict\n",
      "  Running setup.py bdist_wheel for xmltodict\n",
      "  Stored in directory: /Users/cliburn/Library/Caches/pip/wheels/ac/89/8d/1d837ec2a459406472f0586d7fe560dc9dec5bc87c4f171a2b\n",
      "Successfully built xmltodict\n",
      "Installing collected packages: xmltodict\n",
      "Successfully installed xmltodict-0.9.2\n",
      "\u001b[33mYou are using pip version 7.1.2, however version 8.0.0 is available.\n",
      "You should consider upgrading via the 'pip install --upgrade pip' command.\u001b[0m\n"
     ]
    }
   ],
   "source": [
    "! pip install xmltodict"
   ]
  },
  {
   "cell_type": "code",
   "execution_count": 27,
   "metadata": {
    "collapsed": true
   },
   "outputs": [],
   "source": [
    "import xmltodict"
   ]
  },
  {
   "cell_type": "markdown",
   "metadata": {},
   "source": [
    "#### Download file if necessary"
   ]
  },
  {
   "cell_type": "code",
   "execution_count": 28,
   "metadata": {
    "collapsed": false
   },
   "outputs": [],
   "source": [
    "if not os.path.exists('../data/reed.xml'):\n",
    "    import requests\n",
    "    resp = requests.get('http://www.cs.washington.edu/research/xmldatasets/data/courses/reed.xml')\n",
    "    with opne('../data/reed.xml', 'w') as f:\n",
    "        f.write(resp.content)"
   ]
  },
  {
   "cell_type": "markdown",
   "metadata": {},
   "source": [
    "#### Convert XML to nested dictionary"
   ]
  },
  {
   "cell_type": "code",
   "execution_count": 29,
   "metadata": {
    "collapsed": false
   },
   "outputs": [],
   "source": [
    "with open('../data/reed.xml') as f:\n",
    "    xml = f.read()\n",
    "    d = xmltodict.parse(xml)"
   ]
  },
  {
   "cell_type": "markdown",
   "metadata": {},
   "source": [
    "#### Find courses data"
   ]
  },
  {
   "cell_type": "code",
   "execution_count": 30,
   "metadata": {
    "collapsed": false
   },
   "outputs": [
    {
     "data": {
      "text/plain": [
       "odict_keys(['root'])"
      ]
     },
     "execution_count": 30,
     "metadata": {},
     "output_type": "execute_result"
    }
   ],
   "source": [
    "d.keys()"
   ]
  },
  {
   "cell_type": "code",
   "execution_count": 31,
   "metadata": {
    "collapsed": false
   },
   "outputs": [
    {
     "data": {
      "text/plain": [
       "odict_keys(['course'])"
      ]
     },
     "execution_count": 31,
     "metadata": {},
     "output_type": "execute_result"
    }
   ],
   "source": [
    "d['root'].keys()"
   ]
  },
  {
   "cell_type": "code",
   "execution_count": 32,
   "metadata": {
    "collapsed": false
   },
   "outputs": [],
   "source": [
    "courses = d['root']['course']"
   ]
  },
  {
   "cell_type": "code",
   "execution_count": 33,
   "metadata": {
    "collapsed": false
   },
   "outputs": [
    {
     "data": {
      "text/plain": [
       "703"
      ]
     },
     "execution_count": 33,
     "metadata": {},
     "output_type": "execute_result"
    }
   ],
   "source": [
    "len(courses)"
   ]
  },
  {
   "cell_type": "code",
   "execution_count": 34,
   "metadata": {
    "collapsed": false
   },
   "outputs": [
    {
     "data": {
      "text/html": [
       "<div>\n",
       "<table border=\"1\" class=\"dataframe\">\n",
       "  <thead>\n",
       "    <tr style=\"text-align: right;\">\n",
       "      <th></th>\n",
       "      <th>crse</th>\n",
       "      <th>days</th>\n",
       "      <th>instructor</th>\n",
       "      <th>place_building</th>\n",
       "      <th>place_room</th>\n",
       "      <th>reg_num</th>\n",
       "      <th>sect</th>\n",
       "      <th>subj</th>\n",
       "      <th>time_end_time</th>\n",
       "      <th>time_start_time</th>\n",
       "      <th>title</th>\n",
       "      <th>units</th>\n",
       "    </tr>\n",
       "  </thead>\n",
       "  <tbody>\n",
       "    <tr>\n",
       "      <th>0</th>\n",
       "      <td>211</td>\n",
       "      <td>M-W</td>\n",
       "      <td>Brightman</td>\n",
       "      <td>ELIOT</td>\n",
       "      <td>414</td>\n",
       "      <td>10577</td>\n",
       "      <td>F01</td>\n",
       "      <td>ANTH</td>\n",
       "      <td>04:30</td>\n",
       "      <td>03:10PM</td>\n",
       "      <td>Introduction to Anthropology</td>\n",
       "      <td>1.0</td>\n",
       "    </tr>\n",
       "    <tr>\n",
       "      <th>1</th>\n",
       "      <td>344</td>\n",
       "      <td>T-Th</td>\n",
       "      <td>Makley</td>\n",
       "      <td>VOLLUM</td>\n",
       "      <td>120</td>\n",
       "      <td>20573</td>\n",
       "      <td>S01</td>\n",
       "      <td>ANTH</td>\n",
       "      <td>11:50</td>\n",
       "      <td>10:30AM</td>\n",
       "      <td>Sex and Gender</td>\n",
       "      <td>1.0</td>\n",
       "    </tr>\n",
       "    <tr>\n",
       "      <th>2</th>\n",
       "      <td>431</td>\n",
       "      <td>T</td>\n",
       "      <td>Kaplan</td>\n",
       "      <td>PHYSIC</td>\n",
       "      <td>240A</td>\n",
       "      <td>10624</td>\n",
       "      <td>F01</td>\n",
       "      <td>BIOL</td>\n",
       "      <td>08:00</td>\n",
       "      <td>06:10PM</td>\n",
       "      <td>Field Biology of Amphibians</td>\n",
       "      <td>0.5</td>\n",
       "    </tr>\n",
       "    <tr>\n",
       "      <th>3</th>\n",
       "      <td>431</td>\n",
       "      <td>None</td>\n",
       "      <td>None</td>\n",
       "      <td>None</td>\n",
       "      <td>Mellies         RESCHEDULED TO OTHER SEMESTER</td>\n",
       "      <td>10626</td>\n",
       "      <td>F03</td>\n",
       "      <td>BIOL</td>\n",
       "      <td>None</td>\n",
       "      <td>None</td>\n",
       "      <td>Bacterial Pathogenesis</td>\n",
       "      <td>0.5</td>\n",
       "    </tr>\n",
       "    <tr>\n",
       "      <th>4</th>\n",
       "      <td>431</td>\n",
       "      <td>Th</td>\n",
       "      <td>Yezerinac</td>\n",
       "      <td>BIOL</td>\n",
       "      <td>200A</td>\n",
       "      <td>20626</td>\n",
       "      <td>S04</td>\n",
       "      <td>BIOL</td>\n",
       "      <td>08:00</td>\n",
       "      <td>06:10PM</td>\n",
       "      <td>Seminar in Biology</td>\n",
       "      <td>0.5</td>\n",
       "    </tr>\n",
       "  </tbody>\n",
       "</table>\n",
       "</div>"
      ],
      "text/plain": [
       "  crse  days instructor place_building  \\\n",
       "0  211   M-W  Brightman          ELIOT   \n",
       "1  344  T-Th     Makley         VOLLUM   \n",
       "2  431     T     Kaplan         PHYSIC   \n",
       "3  431  None       None           None   \n",
       "4  431    Th  Yezerinac           BIOL   \n",
       "\n",
       "                                      place_room reg_num sect  subj  \\\n",
       "0                                            414   10577  F01  ANTH   \n",
       "1                                            120   20573  S01  ANTH   \n",
       "2                                           240A   10624  F01  BIOL   \n",
       "3  Mellies         RESCHEDULED TO OTHER SEMESTER   10626  F03  BIOL   \n",
       "4                                           200A   20626  S04  BIOL   \n",
       "\n",
       "  time_end_time time_start_time                         title units  \n",
       "0         04:30         03:10PM  Introduction to Anthropology   1.0  \n",
       "1         11:50         10:30AM                Sex and Gender   1.0  \n",
       "2         08:00         06:10PM   Field Biology of Amphibians   0.5  \n",
       "3          None            None        Bacterial Pathogenesis   0.5  \n",
       "4         08:00         06:10PM            Seminar in Biology   0.5  "
      ]
     },
     "execution_count": 34,
     "metadata": {},
     "output_type": "execute_result"
    }
   ],
   "source": [
    "df = DataFrame(flatten(d) for d in courses)\n",
    "df.head()"
   ]
  },
  {
   "cell_type": "code",
   "execution_count": null,
   "metadata": {
    "collapsed": true
   },
   "outputs": [],
   "source": []
  }
 ],
 "metadata": {
  "kernelspec": {
   "display_name": "Python 3",
   "language": "python",
   "name": "python3"
  },
  "language_info": {
   "codemirror_mode": {
    "name": "ipython",
    "version": 3
   },
   "file_extension": ".py",
   "mimetype": "text/x-python",
   "name": "python",
   "nbconvert_exporter": "python",
   "pygments_lexer": "ipython3",
   "version": "3.5.1"
  }
 },
 "nbformat": 4,
 "nbformat_minor": 0
}
